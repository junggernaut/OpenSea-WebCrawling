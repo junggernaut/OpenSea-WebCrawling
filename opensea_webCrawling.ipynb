{
 "cells": [
  {
   "cell_type": "code",
   "execution_count": 1,
   "id": "a20a0945",
   "metadata": {},
   "outputs": [
    {
     "name": "stdout",
     "output_type": "stream",
     "text": [
      "Requirement already satisfied: beautifulsoup4 in c:\\users\\jsa14\\anaconda3\\lib\\site-packages (4.10.0)\n",
      "Requirement already satisfied: soupsieve>1.2 in c:\\users\\jsa14\\anaconda3\\lib\\site-packages (from beautifulsoup4) (2.2.1)\n",
      "Note: you may need to restart the kernel to use updated packages.\n"
     ]
    }
   ],
   "source": [
    "pip install beautifulsoup4"
   ]
  },
  {
   "cell_type": "code",
   "execution_count": 5,
   "id": "f54bf3ee",
   "metadata": {
    "scrolled": true
   },
   "outputs": [
    {
     "ename": "UnicodeEncodeError",
     "evalue": "'cp949' codec can't encode character '\\u272a' in position 12: illegal multibyte sequence",
     "output_type": "error",
     "traceback": [
      "\u001b[1;31m---------------------------------------------------------------------------\u001b[0m",
      "\u001b[1;31mUnicodeEncodeError\u001b[0m                        Traceback (most recent call last)",
      "\u001b[1;32m~\\AppData\\Local\\Temp/ipykernel_4400/977391343.py\u001b[0m in \u001b[0;36m<module>\u001b[1;34m\u001b[0m\n\u001b[0;32m     86\u001b[0m     \u001b[1;32mwith\u001b[0m \u001b[0mopen\u001b[0m\u001b[1;33m(\u001b[0m\u001b[1;34m'all_collectibles_NFT_ranking.csv'\u001b[0m\u001b[1;33m,\u001b[0m \u001b[1;34m'a'\u001b[0m\u001b[1;33m,\u001b[0m\u001b[0mnewline\u001b[0m\u001b[1;33m=\u001b[0m\u001b[1;34m''\u001b[0m\u001b[1;33m)\u001b[0m \u001b[1;32mas\u001b[0m \u001b[0mf\u001b[0m\u001b[1;33m:\u001b[0m\u001b[1;33m\u001b[0m\u001b[1;33m\u001b[0m\u001b[0m\n\u001b[0;32m     87\u001b[0m         \u001b[0mwrite\u001b[0m \u001b[1;33m=\u001b[0m \u001b[0mcsv\u001b[0m\u001b[1;33m.\u001b[0m\u001b[0mwriter\u001b[0m\u001b[1;33m(\u001b[0m\u001b[0mf\u001b[0m\u001b[1;33m)\u001b[0m\u001b[1;33m\u001b[0m\u001b[1;33m\u001b[0m\u001b[0m\n\u001b[1;32m---> 88\u001b[1;33m         \u001b[0mwrite\u001b[0m\u001b[1;33m.\u001b[0m\u001b[0mwriterows\u001b[0m\u001b[1;33m(\u001b[0m\u001b[0mresult\u001b[0m\u001b[1;33m)\u001b[0m\u001b[1;33m\u001b[0m\u001b[1;33m\u001b[0m\u001b[0m\n\u001b[0m\u001b[0;32m     89\u001b[0m \u001b[1;33m\u001b[0m\u001b[0m\n\u001b[0;32m     90\u001b[0m \u001b[1;33m\u001b[0m\u001b[0m\n",
      "\u001b[1;31mUnicodeEncodeError\u001b[0m: 'cp949' codec can't encode character '\\u272a' in position 12: illegal multibyte sequence"
     ]
    }
   ],
   "source": [
    "from selenium import webdriver as wd\n",
    "from bs4 import BeautifulSoup\n",
    "import time\n",
    "import requests\n",
    "import urllib.request\n",
    "from selenium.webdriver.common.by import By\n",
    "import csv\n",
    "\n",
    "\n",
    "fields = ['Rank', 'Name', 'Volume', '24h%', '7d%', 'Floor Price', 'Owners', 'Items']\n",
    "with open('all_collectibles_NFT_ranking.csv', 'w',newline='') as f: \n",
    "    write = csv.writer(f) \n",
    "    write.writerow(fields) \n",
    "\n",
    "\n",
    "\n",
    "\n",
    "dr = wd.Chrome('chromedriver')\n",
    "url = \"https://opensea.io/rankings?sortBy=total_volume&category=collectibles\"\n",
    "dr.get(url)\n",
    "time.sleep(3) \n",
    "\n",
    "\n",
    "while True:\n",
    "    reslist=[]\n",
    "    while True: \n",
    "        before_location = dr.execute_script(\"return window.pageYOffset\") \n",
    "        time.sleep(3)\n",
    "        elements = dr.find_elements(By.XPATH, value='//a[@class=\"styles__StyledLink-sc-l6elh8-0 ekTmzq Blockreact__Block-sc-1xf18x6-0 Flexreact__Flex-sc-1twd32i-0 Itemreact__ItemBase-sc-1idymv7-0 styles__FullRowContainer-sc-12irlp3-0 bnxsDk jYqxGr dCVDRE lcvzZN fresnel-greaterThanOrEqual-xl\"]')  \n",
    "        for eachelem in elements:\n",
    "            divelem = eachelem.find_elements(By.XPATH, value='*')\n",
    "            collectlist = []\n",
    "            separator = \";\"\n",
    "            try:\n",
    "                rank = divelem[0].find_element(By.XPATH, value='.//div[@class=\"Overflowreact__OverflowContainer-sc-7qr9y8-0 jPSCbX\"]').text\n",
    "                collectlist.append(rank)\n",
    "                name = divelem[0].find_element(By.XPATH, value='.//div[@class=\"Overflowreact__OverflowContainer-sc-7qr9y8-0 jPSCbX Ranking--collection-name-overflow\"]').text\n",
    "                collectlist.append(name)\n",
    "            except:\n",
    "                collectlist.append(\"null\")\n",
    "\n",
    "            try:\n",
    "                vol = divelem[1].find_element(By.XPATH, value='.//div[@class=\"Overflowreact__OverflowContainer-sc-7qr9y8-0 jPSCbX\"]').text\n",
    "                collectlist.append(vol)\n",
    "            except:\n",
    "                collectlist.append(\"null\")\n",
    "\n",
    "\n",
    "            try:\n",
    "                day = divelem[2].find_element(By.XPATH, value='.//div[@class=\"Overflowreact__OverflowContainer-sc-7qr9y8-0 jPSCbX\"]').text\n",
    "                collectlist.append(day)            \n",
    "            except:\n",
    "                collectlist.append(\"null\")\n",
    "\n",
    "            try:\n",
    "                week = divelem[3].find_element(By.XPATH, value='.//div[@class=\"Overflowreact__OverflowContainer-sc-7qr9y8-0 jPSCbX\"]').text\n",
    "                collectlist.append(week)            \n",
    "            except:\n",
    "                collectlist.append(\"null\")\n",
    "\n",
    "            try:\n",
    "                floor = divelem[4].find_element(By.XPATH, value='.//div[@class=\"Overflowreact__OverflowContainer-sc-7qr9y8-0 jPSCbX\"]').text\n",
    "                collectlist.append(floor)   \n",
    "            except:\n",
    "                collectlist.append(\"null\")\n",
    "\n",
    "            try:\n",
    "                owner = divelem[5].find_element(By.XPATH, value='.//p[@class=\"Blockreact__Block-sc-1xf18x6-0 Textreact__Text-sc-1w94ul3-0 styles__StatText-sc-12irlp3-3 kWYeTM heRNcW\"]').text\n",
    "                collectlist.append(owner)   \n",
    "            except:\n",
    "                collectlist.append(\"null\")\n",
    "\n",
    "            try:\n",
    "                item = divelem[6].find_element(By.XPATH, value='.//p[@class=\"Blockreact__Block-sc-1xf18x6-0 Textreact__Text-sc-1w94ul3-0 styles__StatText-sc-12irlp3-3 kWYeTM heRNcW\"]').text\n",
    "                collectlist.append(item) \n",
    "            except:\n",
    "                collectlist.append(\"null\")\n",
    "            result = separator.join(collectlist)\n",
    "            if not result == \";;;;;;\":\n",
    "                reslist.append(collectlist)\n",
    "        dr.execute_script(\"window.scrollTo(0,{})\".format(before_location + 2500))\n",
    "        after_location = dr.execute_script(\"return window.pageYOffset\")\n",
    "        if before_location == after_location: \n",
    "            break\n",
    "    result = list(map(list,set(map(tuple,reslist))))\n",
    "    with open('all_collectibles_NFT_ranking.csv', 'a',newline='') as f: \n",
    "        write = csv.writer(f) \n",
    "        write.writerows(result) \n",
    "\n",
    "\n",
    "    buttons = dr.find_elements(By.XPATH, value='//div[@class=\"Blockreact__Block-sc-1xf18x6-0 Flexreact__Flex-sc-1twd32i-0 krGFYb jYqxGr\"]/*')\n",
    "\n",
    "    if buttons[1].get_property('disabled'):\n",
    "        break\n",
    "    else:\n",
    "        buttons[1].click()\n"
   ]
  },
  {
   "cell_type": "code",
   "execution_count": null,
   "id": "19b971e2",
   "metadata": {},
   "outputs": [],
   "source": []
  }
 ],
 "metadata": {
  "kernelspec": {
   "display_name": "Python 3 (ipykernel)",
   "language": "python",
   "name": "python3"
  },
  "language_info": {
   "codemirror_mode": {
    "name": "ipython",
    "version": 3
   },
   "file_extension": ".py",
   "mimetype": "text/x-python",
   "name": "python",
   "nbconvert_exporter": "python",
   "pygments_lexer": "ipython3",
   "version": "3.9.7"
  }
 },
 "nbformat": 4,
 "nbformat_minor": 5
}
