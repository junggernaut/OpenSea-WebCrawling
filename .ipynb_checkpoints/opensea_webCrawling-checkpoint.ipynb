{
 "cells": [
  {
   "cell_type": "code",
   "execution_count": 1,
   "id": "a20a0945",
   "metadata": {},
   "outputs": [
    {
     "name": "stdout",
     "output_type": "stream",
     "text": [
      "Requirement already satisfied: beautifulsoup4 in c:\\users\\jsa14\\anaconda3\\lib\\site-packages (4.10.0)\n",
      "Requirement already satisfied: soupsieve>1.2 in c:\\users\\jsa14\\anaconda3\\lib\\site-packages (from beautifulsoup4) (2.2.1)\n",
      "Note: you may need to restart the kernel to use updated packages.\n"
     ]
    }
   ],
   "source": [
    "pip install beautifulsoup4"
   ]
  },
  {
   "cell_type": "code",
   "execution_count": 13,
   "id": "f54bf3ee",
   "metadata": {
    "scrolled": true
   },
   "outputs": [
    {
     "ename": "StaleElementReferenceException",
     "evalue": "Message: stale element reference: element is not attached to the page document\n  (Session info: chrome=99.0.4844.74)\nStacktrace:\nBacktrace:\n\tOrdinal0 [0x00D59943+2595139]\n\tOrdinal0 [0x00CEC9F1+2148849]\n\tOrdinal0 [0x00BE4528+1066280]\n\tOrdinal0 [0x00BE6E04+1076740]\n\tOrdinal0 [0x00BE6CBE+1076414]\n\tOrdinal0 [0x00BE6F50+1077072]\n\tOrdinal0 [0x00C10D1E+1248542]\n\tOrdinal0 [0x00C111CB+1249739]\n\tOrdinal0 [0x00C07971+1210737]\n\tOrdinal0 [0x00C2BA34+1358388]\n\tOrdinal0 [0x00C07474+1209460]\n\tOrdinal0 [0x00C2BC04+1358852]\n\tOrdinal0 [0x00C3BAF2+1424114]\n\tOrdinal0 [0x00C2B806+1357830]\n\tOrdinal0 [0x00C06086+1204358]\n\tOrdinal0 [0x00C06F96+1208214]\n\tGetHandleVerifier [0x00EFB232+1658114]\n\tGetHandleVerifier [0x00FB312C+2411516]\n\tGetHandleVerifier [0x00DEF261+560433]\n\tGetHandleVerifier [0x00DEE366+556598]\n\tOrdinal0 [0x00CF286B+2173035]\n\tOrdinal0 [0x00CF75F8+2192888]\n\tOrdinal0 [0x00CF76E5+2193125]\n\tOrdinal0 [0x00D011FC+2232828]\n\tBaseThreadInitThunk [0x76616739+25]\n\tRtlGetFullPathName_UEx [0x77938E7F+1215]\n\tRtlGetFullPathName_UEx [0x77938E4D+1165]\n",
     "output_type": "error",
     "traceback": [
      "\u001b[1;31m---------------------------------------------------------------------------\u001b[0m",
      "\u001b[1;31mStaleElementReferenceException\u001b[0m            Traceback (most recent call last)",
      "\u001b[1;32m~\\AppData\\Local\\Temp/ipykernel_21564/1651442361.py\u001b[0m in \u001b[0;36m<module>\u001b[1;34m\u001b[0m\n\u001b[0;32m     29\u001b[0m         \u001b[0melements\u001b[0m \u001b[1;33m=\u001b[0m \u001b[0mdr\u001b[0m\u001b[1;33m.\u001b[0m\u001b[0mfind_elements\u001b[0m\u001b[1;33m(\u001b[0m\u001b[0mBy\u001b[0m\u001b[1;33m.\u001b[0m\u001b[0mXPATH\u001b[0m\u001b[1;33m,\u001b[0m \u001b[0mvalue\u001b[0m\u001b[1;33m=\u001b[0m\u001b[1;34m'//a[@class=\"styles__StyledLink-sc-l6elh8-0 ekTmzq Blockreact__Block-sc-1xf18x6-0 Flexreact__Flex-sc-1twd32i-0 Itemreact__ItemBase-sc-1idymv7-0 styles__FullRowContainer-sc-12irlp3-0 bnxsDk jYqxGr dCVDRE lcvzZN fresnel-greaterThanOrEqual-xl\"]'\u001b[0m\u001b[1;33m)\u001b[0m\u001b[1;33m\u001b[0m\u001b[1;33m\u001b[0m\u001b[0m\n\u001b[0;32m     30\u001b[0m         \u001b[1;32mfor\u001b[0m \u001b[0meachelem\u001b[0m \u001b[1;32min\u001b[0m \u001b[0melements\u001b[0m\u001b[1;33m:\u001b[0m\u001b[1;33m\u001b[0m\u001b[1;33m\u001b[0m\u001b[0m\n\u001b[1;32m---> 31\u001b[1;33m             \u001b[0mdivelem\u001b[0m \u001b[1;33m=\u001b[0m \u001b[0meachelem\u001b[0m\u001b[1;33m.\u001b[0m\u001b[0mfind_elements\u001b[0m\u001b[1;33m(\u001b[0m\u001b[0mBy\u001b[0m\u001b[1;33m.\u001b[0m\u001b[0mXPATH\u001b[0m\u001b[1;33m,\u001b[0m \u001b[0mvalue\u001b[0m\u001b[1;33m=\u001b[0m\u001b[1;34m'*'\u001b[0m\u001b[1;33m)\u001b[0m\u001b[1;33m\u001b[0m\u001b[1;33m\u001b[0m\u001b[0m\n\u001b[0m\u001b[0;32m     32\u001b[0m             \u001b[0mcollectlist\u001b[0m \u001b[1;33m=\u001b[0m \u001b[1;33m[\u001b[0m\u001b[1;33m]\u001b[0m\u001b[1;33m\u001b[0m\u001b[1;33m\u001b[0m\u001b[0m\n\u001b[0;32m     33\u001b[0m             \u001b[0mseparator\u001b[0m \u001b[1;33m=\u001b[0m \u001b[1;34m\";\"\u001b[0m\u001b[1;33m\u001b[0m\u001b[1;33m\u001b[0m\u001b[0m\n",
      "\u001b[1;32m~\\anaconda3\\lib\\site-packages\\selenium\\webdriver\\remote\\webelement.py\u001b[0m in \u001b[0;36mfind_elements\u001b[1;34m(self, by, value)\u001b[0m\n\u001b[0;32m    759\u001b[0m             \u001b[0mvalue\u001b[0m \u001b[1;33m=\u001b[0m \u001b[1;34m'[name=\"%s\"]'\u001b[0m \u001b[1;33m%\u001b[0m \u001b[0mvalue\u001b[0m\u001b[1;33m\u001b[0m\u001b[1;33m\u001b[0m\u001b[0m\n\u001b[0;32m    760\u001b[0m \u001b[1;33m\u001b[0m\u001b[0m\n\u001b[1;32m--> 761\u001b[1;33m         return self._execute(Command.FIND_CHILD_ELEMENTS,\n\u001b[0m\u001b[0;32m    762\u001b[0m                              {\"using\": by, \"value\": value})['value']\n\u001b[0;32m    763\u001b[0m \u001b[1;33m\u001b[0m\u001b[0m\n",
      "\u001b[1;32m~\\anaconda3\\lib\\site-packages\\selenium\\webdriver\\remote\\webelement.py\u001b[0m in \u001b[0;36m_execute\u001b[1;34m(self, command, params)\u001b[0m\n\u001b[0;32m    708\u001b[0m             \u001b[0mparams\u001b[0m \u001b[1;33m=\u001b[0m \u001b[1;33m{\u001b[0m\u001b[1;33m}\u001b[0m\u001b[1;33m\u001b[0m\u001b[1;33m\u001b[0m\u001b[0m\n\u001b[0;32m    709\u001b[0m         \u001b[0mparams\u001b[0m\u001b[1;33m[\u001b[0m\u001b[1;34m'id'\u001b[0m\u001b[1;33m]\u001b[0m \u001b[1;33m=\u001b[0m \u001b[0mself\u001b[0m\u001b[1;33m.\u001b[0m\u001b[0m_id\u001b[0m\u001b[1;33m\u001b[0m\u001b[1;33m\u001b[0m\u001b[0m\n\u001b[1;32m--> 710\u001b[1;33m         \u001b[1;32mreturn\u001b[0m \u001b[0mself\u001b[0m\u001b[1;33m.\u001b[0m\u001b[0m_parent\u001b[0m\u001b[1;33m.\u001b[0m\u001b[0mexecute\u001b[0m\u001b[1;33m(\u001b[0m\u001b[0mcommand\u001b[0m\u001b[1;33m,\u001b[0m \u001b[0mparams\u001b[0m\u001b[1;33m)\u001b[0m\u001b[1;33m\u001b[0m\u001b[1;33m\u001b[0m\u001b[0m\n\u001b[0m\u001b[0;32m    711\u001b[0m \u001b[1;33m\u001b[0m\u001b[0m\n\u001b[0;32m    712\u001b[0m     \u001b[1;32mdef\u001b[0m \u001b[0mfind_element\u001b[0m\u001b[1;33m(\u001b[0m\u001b[0mself\u001b[0m\u001b[1;33m,\u001b[0m \u001b[0mby\u001b[0m\u001b[1;33m=\u001b[0m\u001b[0mBy\u001b[0m\u001b[1;33m.\u001b[0m\u001b[0mID\u001b[0m\u001b[1;33m,\u001b[0m \u001b[0mvalue\u001b[0m\u001b[1;33m=\u001b[0m\u001b[1;32mNone\u001b[0m\u001b[1;33m)\u001b[0m\u001b[1;33m:\u001b[0m\u001b[1;33m\u001b[0m\u001b[1;33m\u001b[0m\u001b[0m\n",
      "\u001b[1;32m~\\anaconda3\\lib\\site-packages\\selenium\\webdriver\\remote\\webdriver.py\u001b[0m in \u001b[0;36mexecute\u001b[1;34m(self, driver_command, params)\u001b[0m\n\u001b[0;32m    423\u001b[0m         \u001b[0mresponse\u001b[0m \u001b[1;33m=\u001b[0m \u001b[0mself\u001b[0m\u001b[1;33m.\u001b[0m\u001b[0mcommand_executor\u001b[0m\u001b[1;33m.\u001b[0m\u001b[0mexecute\u001b[0m\u001b[1;33m(\u001b[0m\u001b[0mdriver_command\u001b[0m\u001b[1;33m,\u001b[0m \u001b[0mparams\u001b[0m\u001b[1;33m)\u001b[0m\u001b[1;33m\u001b[0m\u001b[1;33m\u001b[0m\u001b[0m\n\u001b[0;32m    424\u001b[0m         \u001b[1;32mif\u001b[0m \u001b[0mresponse\u001b[0m\u001b[1;33m:\u001b[0m\u001b[1;33m\u001b[0m\u001b[1;33m\u001b[0m\u001b[0m\n\u001b[1;32m--> 425\u001b[1;33m             \u001b[0mself\u001b[0m\u001b[1;33m.\u001b[0m\u001b[0merror_handler\u001b[0m\u001b[1;33m.\u001b[0m\u001b[0mcheck_response\u001b[0m\u001b[1;33m(\u001b[0m\u001b[0mresponse\u001b[0m\u001b[1;33m)\u001b[0m\u001b[1;33m\u001b[0m\u001b[1;33m\u001b[0m\u001b[0m\n\u001b[0m\u001b[0;32m    426\u001b[0m             response['value'] = self._unwrap_value(\n\u001b[0;32m    427\u001b[0m                 response.get('value', None))\n",
      "\u001b[1;32m~\\anaconda3\\lib\\site-packages\\selenium\\webdriver\\remote\\errorhandler.py\u001b[0m in \u001b[0;36mcheck_response\u001b[1;34m(self, response)\u001b[0m\n\u001b[0;32m    245\u001b[0m                 \u001b[0malert_text\u001b[0m \u001b[1;33m=\u001b[0m \u001b[0mvalue\u001b[0m\u001b[1;33m[\u001b[0m\u001b[1;34m'alert'\u001b[0m\u001b[1;33m]\u001b[0m\u001b[1;33m.\u001b[0m\u001b[0mget\u001b[0m\u001b[1;33m(\u001b[0m\u001b[1;34m'text'\u001b[0m\u001b[1;33m)\u001b[0m\u001b[1;33m\u001b[0m\u001b[1;33m\u001b[0m\u001b[0m\n\u001b[0;32m    246\u001b[0m             \u001b[1;32mraise\u001b[0m \u001b[0mexception_class\u001b[0m\u001b[1;33m(\u001b[0m\u001b[0mmessage\u001b[0m\u001b[1;33m,\u001b[0m \u001b[0mscreen\u001b[0m\u001b[1;33m,\u001b[0m \u001b[0mstacktrace\u001b[0m\u001b[1;33m,\u001b[0m \u001b[0malert_text\u001b[0m\u001b[1;33m)\u001b[0m  \u001b[1;31m# type: ignore[call-arg]  # mypy is not smart enough here\u001b[0m\u001b[1;33m\u001b[0m\u001b[1;33m\u001b[0m\u001b[0m\n\u001b[1;32m--> 247\u001b[1;33m         \u001b[1;32mraise\u001b[0m \u001b[0mexception_class\u001b[0m\u001b[1;33m(\u001b[0m\u001b[0mmessage\u001b[0m\u001b[1;33m,\u001b[0m \u001b[0mscreen\u001b[0m\u001b[1;33m,\u001b[0m \u001b[0mstacktrace\u001b[0m\u001b[1;33m)\u001b[0m\u001b[1;33m\u001b[0m\u001b[1;33m\u001b[0m\u001b[0m\n\u001b[0m\u001b[0;32m    248\u001b[0m \u001b[1;33m\u001b[0m\u001b[0m\n\u001b[0;32m    249\u001b[0m     \u001b[1;32mdef\u001b[0m \u001b[0m_value_or_default\u001b[0m\u001b[1;33m(\u001b[0m\u001b[0mself\u001b[0m\u001b[1;33m,\u001b[0m \u001b[0mobj\u001b[0m\u001b[1;33m:\u001b[0m \u001b[0mMapping\u001b[0m\u001b[1;33m[\u001b[0m\u001b[0m_KT\u001b[0m\u001b[1;33m,\u001b[0m \u001b[0m_VT\u001b[0m\u001b[1;33m]\u001b[0m\u001b[1;33m,\u001b[0m \u001b[0mkey\u001b[0m\u001b[1;33m:\u001b[0m \u001b[0m_KT\u001b[0m\u001b[1;33m,\u001b[0m \u001b[0mdefault\u001b[0m\u001b[1;33m:\u001b[0m \u001b[0m_VT\u001b[0m\u001b[1;33m)\u001b[0m \u001b[1;33m->\u001b[0m \u001b[0m_VT\u001b[0m\u001b[1;33m:\u001b[0m\u001b[1;33m\u001b[0m\u001b[1;33m\u001b[0m\u001b[0m\n",
      "\u001b[1;31mStaleElementReferenceException\u001b[0m: Message: stale element reference: element is not attached to the page document\n  (Session info: chrome=99.0.4844.74)\nStacktrace:\nBacktrace:\n\tOrdinal0 [0x00D59943+2595139]\n\tOrdinal0 [0x00CEC9F1+2148849]\n\tOrdinal0 [0x00BE4528+1066280]\n\tOrdinal0 [0x00BE6E04+1076740]\n\tOrdinal0 [0x00BE6CBE+1076414]\n\tOrdinal0 [0x00BE6F50+1077072]\n\tOrdinal0 [0x00C10D1E+1248542]\n\tOrdinal0 [0x00C111CB+1249739]\n\tOrdinal0 [0x00C07971+1210737]\n\tOrdinal0 [0x00C2BA34+1358388]\n\tOrdinal0 [0x00C07474+1209460]\n\tOrdinal0 [0x00C2BC04+1358852]\n\tOrdinal0 [0x00C3BAF2+1424114]\n\tOrdinal0 [0x00C2B806+1357830]\n\tOrdinal0 [0x00C06086+1204358]\n\tOrdinal0 [0x00C06F96+1208214]\n\tGetHandleVerifier [0x00EFB232+1658114]\n\tGetHandleVerifier [0x00FB312C+2411516]\n\tGetHandleVerifier [0x00DEF261+560433]\n\tGetHandleVerifier [0x00DEE366+556598]\n\tOrdinal0 [0x00CF286B+2173035]\n\tOrdinal0 [0x00CF75F8+2192888]\n\tOrdinal0 [0x00CF76E5+2193125]\n\tOrdinal0 [0x00D011FC+2232828]\n\tBaseThreadInitThunk [0x76616739+25]\n\tRtlGetFullPathName_UEx [0x77938E7F+1215]\n\tRtlGetFullPathName_UEx [0x77938E4D+1165]\n"
     ]
    }
   ],
   "source": [
    "from selenium import webdriver as wd\n",
    "from bs4 import BeautifulSoup\n",
    "import time\n",
    "import requests\n",
    "import urllib.request\n",
    "from selenium.webdriver.common.by import By\n",
    "import csv\n",
    "\n",
    "\n",
    "fields = ['Rank', 'Name','TokenType', 'Volume', '24h%', '7d%', 'Floor Price', 'Owners', 'Items']\n",
    "with open('all_nft.csv', 'w',newline='') as f: \n",
    "    write = csv.writer(f) \n",
    "    write.writerow(fields) \n",
    "\n",
    "\n",
    "\n",
    "\n",
    "dr = wd.Chrome('chromedriver')\n",
    "url = \"https://opensea.io/rankings?sortBy=total_volume\"\n",
    "dr.get(url)\n",
    "time.sleep(3) \n",
    "\n",
    "\n",
    "while True:\n",
    "    reslist=[]\n",
    "    while True: \n",
    "        before_location = dr.execute_script(\"return window.pageYOffset\") \n",
    "        time.sleep(3)\n",
    "        elements = dr.find_elements(By.XPATH, value='//a[@class=\"styles__StyledLink-sc-l6elh8-0 ekTmzq Blockreact__Block-sc-1xf18x6-0 Flexreact__Flex-sc-1twd32i-0 Itemreact__ItemBase-sc-1idymv7-0 styles__FullRowContainer-sc-12irlp3-0 bnxsDk jYqxGr dCVDRE lcvzZN fresnel-greaterThanOrEqual-xl\"]')  \n",
    "        for eachelem in elements:\n",
    "            divelem = eachelem.find_elements(By.XPATH, value='*')\n",
    "            collectlist = []\n",
    "            separator = \";\"\n",
    "            try:\n",
    "                rank = divelem[0].find_element(By.XPATH, value='.//div[@class=\"Overflowreact__OverflowContainer-sc-7qr9y8-0 jPSCbX\"]').text\n",
    "                collectlist.append(rank)\n",
    "                name = divelem[0].find_element(By.XPATH, value='.//div[@class=\"Overflowreact__OverflowContainer-sc-7qr9y8-0 jPSCbX Ranking--collection-name-overflow\"]').text\n",
    "                collectlist.append(name)\n",
    "            except:\n",
    "                collectlist.append(\"null\")\n",
    "\n",
    "            try:\n",
    "                img = divelem[1].find_element(By.XPATH, value='.//button[@class=\"UnstyledButtonreact__UnstyledButton-sc-ty1bh0-0 btgkrL\"]')\n",
    "                imgsrc = img.get_attribute(\"aria-label\")\n",
    "                if imgsrc == \"ETH logo\":\n",
    "                    collectlist.append(\"ETH\")\n",
    "                elif imgsrc == \"KLAY logo\":\n",
    "                    collectlist.append(\"KLAY\")\n",
    "                else:\n",
    "                    print(\"here\")\n",
    "                vol = divelem[1].find_element(By.XPATH, value='.//div[@class=\"Overflowreact__OverflowContainer-sc-7qr9y8-0 jPSCbX\"]').text\n",
    "                collectlist.append(vol)\n",
    "            except:\n",
    "                print(\"null\")\n",
    "                collectlist.append(\"null\")\n",
    "                collectlist.append(\"null\")\n",
    "\n",
    "            try:\n",
    "                day = divelem[2].find_element(By.XPATH, value='.//div[@class=\"Overflowreact__OverflowContainer-sc-7qr9y8-0 jPSCbX\"]').text\n",
    "                collectlist.append(day)            \n",
    "            except:\n",
    "                collectlist.append(\"null\")\n",
    "\n",
    "            try:\n",
    "                week = divelem[3].find_element(By.XPATH, value='.//div[@class=\"Overflowreact__OverflowContainer-sc-7qr9y8-0 jPSCbX\"]').text\n",
    "                collectlist.append(week)            \n",
    "            except:\n",
    "                collectlist.append(\"null\")\n",
    "\n",
    "            try:\n",
    "                floor = divelem[4].find_element(By.XPATH, value='.//div[@class=\"Overflowreact__OverflowContainer-sc-7qr9y8-0 jPSCbX\"]').text\n",
    "                collectlist.append(floor)   \n",
    "            except:\n",
    "                collectlist.append(\"null\")\n",
    "\n",
    "            try:\n",
    "                owner = divelem[5].find_element(By.XPATH, value='.//p[@class=\"Blockreact__Block-sc-1xf18x6-0 Textreact__Text-sc-1w94ul3-0 styles__StatText-sc-12irlp3-3 kWYeTM heRNcW\"]').text\n",
    "                collectlist.append(owner)   \n",
    "            except:\n",
    "                collectlist.append(\"null\")\n",
    "\n",
    "            try:\n",
    "                item = divelem[6].find_element(By.XPATH, value='.//p[@class=\"Blockreact__Block-sc-1xf18x6-0 Textreact__Text-sc-1w94ul3-0 styles__StatText-sc-12irlp3-3 kWYeTM heRNcW\"]').text\n",
    "                collectlist.append(item) \n",
    "            except:\n",
    "                collectlist.append(\"null\")\n",
    "            result = separator.join(collectlist)\n",
    "            if not result == \";;;;;;;;\":\n",
    "                reslist.append(collectlist)\n",
    "        dr.execute_script(\"window.scrollTo(0,{})\".format(before_location + 2500))\n",
    "        after_location = dr.execute_script(\"return window.pageYOffset\")\n",
    "        if before_location == after_location: \n",
    "            break\n",
    "    result = list(map(list,set(map(tuple,reslist))))\n",
    "    with open('all_nft.csv', 'a',newline='', encoding='UTF-8') as f: \n",
    "        write = csv.writer(f) \n",
    "        write.writerows(result) \n",
    "\n",
    "\n",
    "    buttons = dr.find_elements(By.XPATH, value='//div[@class=\"Blockreact__Block-sc-1xf18x6-0 Flexreact__Flex-sc-1twd32i-0 krGFYb jYqxGr\"]/*')\n",
    "\n",
    "    if buttons[1].get_property('disabled'):\n",
    "        break\n",
    "    else:\n",
    "        buttons[1].click()\n"
   ]
  },
  {
   "cell_type": "code",
   "execution_count": null,
   "id": "19b971e2",
   "metadata": {},
   "outputs": [],
   "source": []
  },
  {
   "cell_type": "code",
   "execution_count": null,
   "id": "38a873ad",
   "metadata": {},
   "outputs": [],
   "source": []
  }
 ],
 "metadata": {
  "kernelspec": {
   "display_name": "Python 3 (ipykernel)",
   "language": "python",
   "name": "python3"
  },
  "language_info": {
   "codemirror_mode": {
    "name": "ipython",
    "version": 3
   },
   "file_extension": ".py",
   "mimetype": "text/x-python",
   "name": "python",
   "nbconvert_exporter": "python",
   "pygments_lexer": "ipython3",
   "version": "3.9.7"
  }
 },
 "nbformat": 4,
 "nbformat_minor": 5
}
